{
 "cells": [
  {
   "cell_type": "markdown",
   "metadata": {},
   "source": [
    "# 최종답"
   ]
  },
  {
   "cell_type": "code",
   "execution_count": null,
   "metadata": {},
   "outputs": [],
   "source": [
    "N = input()\n",
    "\n",
    "sum =0\n",
    "for i in N:\n",
    "    sum +=int(i)\n",
    "    \n",
    "if ('0' not in N) or (sum%3 != 0): # N안에 0이 있는가\n",
    "    print(-1)\n",
    "else :\n",
    "    tmp = list(N)\n",
    "    n=[]\n",
    "    for i in tmp:\n",
    "        n.append(int(i))\n",
    "    n.sort(reverse=True)\n",
    "    for i in n:\n",
    "        print(i,end='')"
   ]
  },
  {
   "cell_type": "markdown",
   "metadata": {},
   "source": [
    "# 간단히 하기"
   ]
  },
  {
   "cell_type": "code",
   "execution_count": null,
   "metadata": {},
   "outputs": [],
   "source": [
    "N = list(map(int,input())) # N is int and list\n",
    "N.sort(reverse = True) # 첫번째 줄과 두번째줄 합칠 수 없음. 합치면 None 나옴.\n",
    "\n",
    "sum =0\n",
    "for i in N:\n",
    "    sum+=i\n",
    "\n",
    "if 0 not in N or sum%3 !=0 :\n",
    "    print(-1)\n",
    "else:\n",
    "    print(''.join(str(i) for i in N))"
   ]
  }
 ],
 "metadata": {
  "kernelspec": {
   "display_name": "Python 3",
   "language": "python",
   "name": "python3"
  },
  "language_info": {
   "codemirror_mode": {
    "name": "ipython",
    "version": 3
   },
   "file_extension": ".py",
   "mimetype": "text/x-python",
   "name": "python",
   "nbconvert_exporter": "python",
   "pygments_lexer": "ipython3",
   "version": "3.7.3"
  }
 },
 "nbformat": 4,
 "nbformat_minor": 2
}
