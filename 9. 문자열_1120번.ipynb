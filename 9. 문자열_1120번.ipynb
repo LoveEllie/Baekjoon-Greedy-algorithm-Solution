{
 "cells": [
  {
   "cell_type": "code",
   "execution_count": 8,
   "metadata": {},
   "outputs": [
    {
     "name": "stdout",
     "output_type": "stream",
     "text": [
      "adaabc aababbc\n",
      "2\n"
     ]
    }
   ],
   "source": [
    "a,b = input().split()\n",
    "\n",
    "min = 50\n",
    "\n",
    "for st in range(len(b)-len(a)+1):\n",
    "    cnt=0\n",
    "    for i in range(len(a)):\n",
    "        if a[i]!=b[st+i]:\n",
    "            cnt+=1\n",
    "    if min>cnt:\n",
    "        min=cnt\n",
    "print(min)"
   ]
  }
 ],
 "metadata": {
  "kernelspec": {
   "display_name": "Python 3",
   "language": "python",
   "name": "python3"
  },
  "language_info": {
   "codemirror_mode": {
    "name": "ipython",
    "version": 3
   },
   "file_extension": ".py",
   "mimetype": "text/x-python",
   "name": "python",
   "nbconvert_exporter": "python",
   "pygments_lexer": "ipython3",
   "version": "3.7.3"
  }
 },
 "nbformat": 4,
 "nbformat_minor": 2
}
