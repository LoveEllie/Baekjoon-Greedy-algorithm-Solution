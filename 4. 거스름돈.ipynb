{
 "cells": [
  {
   "cell_type": "code",
   "execution_count": 9,
   "metadata": {},
   "outputs": [
    {
     "name": "stdout",
     "output_type": "stream",
     "text": [
      "380\n",
      "4\n"
     ]
    }
   ],
   "source": [
    "pay = int(input())\n",
    "pay = 1000-pay\n",
    "\n",
    "coin = [500, 100, 50, 10, 5, 1]\n",
    "\n",
    "cnt = 0\n",
    "\n",
    "for i in coin:\n",
    "    if pay == 0:\n",
    "        break\n",
    "    if pay>=i:\n",
    "        num = pay//i\n",
    "        pay -= i*num\n",
    "        cnt += num\n",
    "        \n",
    "print(cnt)"
   ]
  }
 ],
 "metadata": {
  "kernelspec": {
   "display_name": "Python 3",
   "language": "python",
   "name": "python3"
  },
  "language_info": {
   "codemirror_mode": {
    "name": "ipython",
    "version": 3
   },
   "file_extension": ".py",
   "mimetype": "text/x-python",
   "name": "python",
   "nbconvert_exporter": "python",
   "pygments_lexer": "ipython3",
   "version": "3.7.3"
  }
 },
 "nbformat": 4,
 "nbformat_minor": 2
}
