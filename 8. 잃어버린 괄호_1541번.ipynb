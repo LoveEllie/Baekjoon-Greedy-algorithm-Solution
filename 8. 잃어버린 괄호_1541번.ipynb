{
 "cells": [
  {
   "cell_type": "code",
   "execution_count": 1,
   "metadata": {},
   "outputs": [
    {
     "name": "stdout",
     "output_type": "stream",
     "text": [
      "55-50+40\n"
     ]
    }
   ],
   "source": [
    "eq = input().split('-')"
   ]
  },
  {
   "cell_type": "code",
   "execution_count": 2,
   "metadata": {},
   "outputs": [
    {
     "data": {
      "text/plain": [
       "[55, 90]"
      ]
     },
     "execution_count": 2,
     "metadata": {},
     "output_type": "execute_result"
    }
   ],
   "source": [
    "num = []\n",
    "\n",
    "for i in eq:\n",
    "    try:\n",
    "        num.append(int(i))\n",
    "    except:\n",
    "        sum=0\n",
    "        tmp2=map(int, i.split('+'))\n",
    "        for i in tmp2:\n",
    "            sum+=i\n",
    "        num.append(sum)\n",
    "num"
   ]
  },
  {
   "cell_type": "code",
   "execution_count": 3,
   "metadata": {},
   "outputs": [
    {
     "data": {
      "text/plain": [
       "-35"
      ]
     },
     "execution_count": 3,
     "metadata": {},
     "output_type": "execute_result"
    }
   ],
   "source": [
    "result=0\n",
    "for i in range(len(num)):\n",
    "    if i==0:\n",
    "        result+=num[i]\n",
    "    else:\n",
    "        result-=num[i]\n",
    "result"
   ]
  },
  {
   "cell_type": "markdown",
   "metadata": {},
   "source": [
    "## 최종답"
   ]
  },
  {
   "cell_type": "code",
   "execution_count": 4,
   "metadata": {},
   "outputs": [
    {
     "name": "stdout",
     "output_type": "stream",
     "text": [
      "55-50+40\n",
      "-35\n"
     ]
    }
   ],
   "source": [
    "eq = input().split('-')\n",
    "\n",
    "num = []\n",
    "for i in eq:\n",
    "    try:\n",
    "        num.append(int(i))\n",
    "    except:\n",
    "        sum=0\n",
    "        tmp2=map(int, i.split('+'))\n",
    "        for i in tmp2:\n",
    "            sum+=i\n",
    "        num.append(sum)\n",
    "\n",
    "result=0\n",
    "for i in range(len(num)):\n",
    "    if i==0:\n",
    "        result+=num[i]\n",
    "    else:\n",
    "        result-=num[i]\n",
    "print(result)"
   ]
  },
  {
   "cell_type": "markdown",
   "metadata": {},
   "source": [
    "## 짧게 수정"
   ]
  },
  {
   "cell_type": "code",
   "execution_count": 5,
   "metadata": {},
   "outputs": [
    {
     "name": "stdout",
     "output_type": "stream",
     "text": [
      "55-50+40\n",
      "-35\n"
     ]
    }
   ],
   "source": [
    "# idea by 츄르 사려고 코딩하는 집사\n",
    "\n",
    "eq = input().split('-') # list\n",
    "\n",
    "result =0\n",
    "\n",
    "for i in eq[0].split('+'):\n",
    "    result+=int(i)\n",
    "\n",
    "for i in eq[1:]:\n",
    "    for j in i.split('+'): # 다 더한 뒤 빼주는 것 = +인 값을 다 빼버리는 것\n",
    "        result -= int(j)\n",
    "\n",
    "print(result)"
   ]
  }
 ],
 "metadata": {
  "kernelspec": {
   "display_name": "Python 3",
   "language": "python",
   "name": "python3"
  },
  "language_info": {
   "codemirror_mode": {
    "name": "ipython",
    "version": 3
   },
   "file_extension": ".py",
   "mimetype": "text/x-python",
   "name": "python",
   "nbconvert_exporter": "python",
   "pygments_lexer": "ipython3",
   "version": "3.7.3"
  }
 },
 "nbformat": 4,
 "nbformat_minor": 2
}
